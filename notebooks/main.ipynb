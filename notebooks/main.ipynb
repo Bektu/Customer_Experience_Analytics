{
 "cells": [
  {
   "cell_type": "code",
   "execution_count": null,
   "id": "e09dd690",
   "metadata": {},
   "outputs": [],
   "source": [
    "\n",
    "import sys\n",
    "import os\n",
    "\n",
    "parent_dir = os.path.abspath(os.path.join(os.getcwd(), '..'))\n",
    "sys.path.append(parent_dir)\n",
    "from script.scrape_reviews import scrape_all_reviews\n",
    "from script.preprocess import preprocess_reviews\n",
    "from script.sentiment_analysis import analyze_sentiment\n",
    "from script.thematic_analysis import extract_themes\n",
    "from script.oracle_db import connect_to_db, create_tables, insert_data\n",
    "from script.visualize import generate_insights_and_visuals\n"
   ]
  },
  {
   "cell_type": "code",
   "execution_count": null,
   "id": "a81eba19",
   "metadata": {},
   "outputs": [],
   "source": [
    "# Scrape reviews and save to raw data directory\n",
    "df_raw = scrape_all_reviews()\n",
    "df_raw.to_csv(\"data/raw/reviews_raw.csv\", index=False)\n",
    "print(f\"[INFO] Scraped {len(df_raw)} total reviews.\")\n"
   ]
  },
  {
   "cell_type": "code",
   "execution_count": null,
   "id": "14bed08d",
   "metadata": {},
   "outputs": [],
   "source": [
    "df_clean = preprocess_reviews(df_raw)\n",
    "df_clean.to_csv(\"data/processed/reviews_cleaned.csv\", index=False)\n",
    "print(\"[INFO] Saved cleaned dataset.\")\n"
   ]
  },
  {
   "cell_type": "code",
   "execution_count": null,
   "id": "ed44185e",
   "metadata": {},
   "outputs": [],
   "source": [
    "df_with_sentiment = analyze_sentiment(df_clean)\n",
    "df_with_sentiment.to_csv(\"data/processed/reviews_with_sentiment.csv\", index=False)\n",
    "print(\"[INFO] Saved dataset with sentiment labels.\")\n"
   ]
  },
  {
   "cell_type": "code",
   "execution_count": null,
   "id": "5496b000",
   "metadata": {},
   "outputs": [],
   "source": [
    "df_with_themes = extract_themes(df_with_sentiment)\n",
    "df_with_themes.to_csv(\"data/processed/reviews_with_themes.csv\", index=False)\n",
    "print(\"[INFO] Saved dataset with themes and keywords.\")\n"
   ]
  },
  {
   "cell_type": "code",
   "execution_count": null,
   "id": "1a8a2e54",
   "metadata": {},
   "outputs": [],
   "source": [
    "conn = connect_to_db()\n",
    "try:\n",
    "    create_tables(conn)\n",
    "except Exception as e:\n",
    "    print(f\"[WARNING] Tables may already exist: {e}\")\n",
    "\n",
    "insert_data(conn, df_with_themes)\n",
    "conn.close()\n"
   ]
  },
  {
   "cell_type": "code",
   "execution_count": null,
   "id": "bf94310d",
   "metadata": {},
   "outputs": [],
   "source": [
    "generate_insights_and_visuals(df_with_themes)\n"
   ]
  }
 ],
 "metadata": {
  "kernelspec": {
   "display_name": ".venv",
   "language": "python",
   "name": "python3"
  },
  "language_info": {
   "codemirror_mode": {
    "name": "ipython",
    "version": 3
   },
   "file_extension": ".py",
   "mimetype": "text/x-python",
   "name": "python",
   "nbconvert_exporter": "python",
   "pygments_lexer": "ipython3",
   "version": "3.11.7"
  }
 },
 "nbformat": 4,
 "nbformat_minor": 5
}
