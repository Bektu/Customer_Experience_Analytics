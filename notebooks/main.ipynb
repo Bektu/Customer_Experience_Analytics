{
 "cells": [
  {
   "cell_type": "code",
   "execution_count": 5,
   "id": "e09dd690",
   "metadata": {},
   "outputs": [
    {
     "ename": "ModuleNotFoundError",
     "evalue": "No module named 'scripts.scrape_reviews'",
     "output_type": "error",
     "traceback": [
      "\u001b[31m---------------------------------------------------------------------------\u001b[39m",
      "\u001b[31mModuleNotFoundError\u001b[39m                       Traceback (most recent call last)",
      "\u001b[36mCell\u001b[39m\u001b[36m \u001b[39m\u001b[32mIn[5]\u001b[39m\u001b[32m, line 6\u001b[39m\n\u001b[32m      2\u001b[39m \u001b[38;5;28;01mimport\u001b[39;00m\u001b[38;5;250m \u001b[39m\u001b[34;01mos\u001b[39;00m\n\u001b[32m      5\u001b[39m sys.path.append(os.path.abspath(os.path.join(os.getcwd(), \u001b[33m'\u001b[39m\u001b[33m..\u001b[39m\u001b[33m'\u001b[39m)))\n\u001b[32m----> \u001b[39m\u001b[32m6\u001b[39m \u001b[38;5;28;01mfrom\u001b[39;00m\u001b[38;5;250m \u001b[39m\u001b[34;01mscripts\u001b[39;00m\u001b[34;01m.\u001b[39;00m\u001b[34;01mscrape_reviews\u001b[39;00m\u001b[38;5;250m \u001b[39m\u001b[38;5;28;01mimport\u001b[39;00m scrape_all_reviews\n\u001b[32m      7\u001b[39m \u001b[38;5;28;01mfrom\u001b[39;00m\u001b[38;5;250m \u001b[39m\u001b[34;01mscripts\u001b[39;00m\u001b[34;01m.\u001b[39;00m\u001b[34;01mpreprocessing\u001b[39;00m\u001b[38;5;250m \u001b[39m\u001b[38;5;28;01mimport\u001b[39;00m preprocess_reviews\n\u001b[32m      8\u001b[39m \u001b[38;5;28;01mfrom\u001b[39;00m\u001b[38;5;250m \u001b[39m\u001b[34;01mscripts\u001b[39;00m\u001b[34;01m.\u001b[39;00m\u001b[34;01msentiment\u001b[39;00m\u001b[38;5;250m \u001b[39m\u001b[38;5;28;01mimport\u001b[39;00m analyze_sentiment\n",
      "\u001b[31mModuleNotFoundError\u001b[39m: No module named 'scripts.scrape_reviews'"
     ]
    }
   ],
   "source": [
    "\n",
    "import sys\n",
    "import os\n",
    "\n",
    "\n",
    "sys.path.append(os.path.abspath(os.path.join(os.getcwd(), '..')))\n",
    "from scripts.scrape_reviews import scrape_all_reviews\n",
    "from scripts.preprocessing import preprocess_reviews\n",
    "from scripts.sentiment import analyze_sentiment\n",
    "from scripts.thematic_analysis import extract_themes\n",
    "from scripts.oracle_db import connect_to_db, create_tables, insert_data\n",
    "from scripts.insights import generate_insights_and_visuals\n"
   ]
  },
  {
   "cell_type": "code",
   "execution_count": null,
   "id": "a81eba19",
   "metadata": {},
   "outputs": [],
   "source": [
    "# Scrape reviews and save to raw data directory\n",
    "df_raw = scrape_all_reviews()\n",
    "df_raw.to_csv(\"data/raw/reviews_raw.csv\", index=False)\n",
    "print(f\"[INFO] Scraped {len(df_raw)} total reviews.\")\n"
   ]
  },
  {
   "cell_type": "code",
   "execution_count": null,
   "id": "14bed08d",
   "metadata": {},
   "outputs": [],
   "source": [
    "df_clean = preprocess_reviews(df_raw)\n",
    "df_clean.to_csv(\"data/processed/reviews_cleaned.csv\", index=False)\n",
    "print(\"[INFO] Saved cleaned dataset.\")\n"
   ]
  },
  {
   "cell_type": "code",
   "execution_count": null,
   "id": "ed44185e",
   "metadata": {},
   "outputs": [],
   "source": [
    "df_with_sentiment = analyze_sentiment(df_clean)\n",
    "df_with_sentiment.to_csv(\"data/processed/reviews_with_sentiment.csv\", index=False)\n",
    "print(\"[INFO] Saved dataset with sentiment labels.\")\n"
   ]
  },
  {
   "cell_type": "code",
   "execution_count": null,
   "id": "5496b000",
   "metadata": {},
   "outputs": [],
   "source": [
    "df_with_themes = extract_themes(df_with_sentiment)\n",
    "df_with_themes.to_csv(\"data/processed/reviews_with_themes.csv\", index=False)\n",
    "print(\"[INFO] Saved dataset with themes and keywords.\")\n"
   ]
  },
  {
   "cell_type": "code",
   "execution_count": null,
   "id": "1a8a2e54",
   "metadata": {},
   "outputs": [],
   "source": [
    "conn = connect_to_db()\n",
    "try:\n",
    "    create_tables(conn)\n",
    "except Exception as e:\n",
    "    print(f\"[WARNING] Tables may already exist: {e}\")\n",
    "\n",
    "insert_data(conn, df_with_themes)\n",
    "conn.close()\n"
   ]
  },
  {
   "cell_type": "code",
   "execution_count": null,
   "id": "bf94310d",
   "metadata": {},
   "outputs": [],
   "source": [
    "generate_insights_and_visuals(df_with_themes)\n"
   ]
  }
 ],
 "metadata": {
  "kernelspec": {
   "display_name": ".venv",
   "language": "python",
   "name": "python3"
  },
  "language_info": {
   "codemirror_mode": {
    "name": "ipython",
    "version": 3
   },
   "file_extension": ".py",
   "mimetype": "text/x-python",
   "name": "python",
   "nbconvert_exporter": "python",
   "pygments_lexer": "ipython3",
   "version": "3.11.7"
  }
 },
 "nbformat": 4,
 "nbformat_minor": 5
}
